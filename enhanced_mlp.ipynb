{
 "cells": [
  {
   "cell_type": "code",
   "execution_count": 52,
   "metadata": {},
   "outputs": [],
   "source": [
    "import pandas as pd\n",
    "import numpy as np\n",
    "import pickle\n",
    "from sklearn.neural_network import MLPClassifier\n",
    "from sklearn.metrics import accuracy_score\n",
    "from sklearn.metrics.pairwise import chi2_kernel"
   ]
  },
  {
   "cell_type": "code",
   "execution_count": 53,
   "metadata": {},
   "outputs": [],
   "source": [
    "train = pd.read_csv(\"train.csv\", encoding='utf-8')\n",
    "test = pd.read_csv(\"test.csv\", encoding='utf-8')"
   ]
  },
  {
   "cell_type": "code",
   "execution_count": 54,
   "metadata": {},
   "outputs": [],
   "source": [
    "train_label = train.loc[:,\"satisfaction\"]\n",
    "train_data = train.drop('satisfaction', axis=1)\n",
    "test_label = test.loc[:,\"satisfaction\"]\n",
    "test_data = test.drop('satisfaction', axis=1)"
   ]
  },
  {
   "cell_type": "code",
   "execution_count": 55,
   "metadata": {},
   "outputs": [],
   "source": [
    "drop_row = [i for i in range(5000, len(train_data))]\n",
    "train_data.drop(drop_row, inplace=True)\n",
    "train_label.drop(drop_row, inplace=True)\n",
    "\n",
    "drop_row = [i for i in range(1000, len(test_data))]\n",
    "test_data.drop(drop_row, inplace=True)\n",
    "test_label.drop(drop_row, inplace=True)"
   ]
  },
  {
   "cell_type": "code",
   "execution_count": 56,
   "metadata": {},
   "outputs": [],
   "source": [
    "train_data = train_data.T.values.tolist()\n",
    "train_label = train_label.T.values.tolist()\n",
    "test_data = test_data.T.values.tolist()\n",
    "test_label = test_label.T.values.tolist()"
   ]
  },
  {
   "cell_type": "code",
   "execution_count": 57,
   "metadata": {},
   "outputs": [],
   "source": [
    "def normalize(data: list, col_index: list = None)-> list:\n",
    "    if col_index is None:\n",
    "        temp_lst = [] \n",
    "        temp_map = {}\n",
    "        map_value = 0\n",
    "        for i in data:\n",
    "            if i not in temp_map:\n",
    "                temp_map[i] = map_value\n",
    "                map_value += 1\n",
    "            temp_lst.append(temp_map[i])\n",
    "        data = temp_lst\n",
    "        return data\n",
    "        \n",
    "    for col in col_index:\n",
    "        temp_lst = [] \n",
    "        temp_map = {}\n",
    "        map_value = 0\n",
    "        for i in data[col]:\n",
    "            if i not in temp_map:\n",
    "                temp_map[i] = map_value\n",
    "                map_value += 1\n",
    "            temp_lst.append(temp_map[i])\n",
    "        data[col] = temp_lst\n",
    "    return data\n",
    "\n",
    "\n",
    "def fillnan(data: list)-> list:\n",
    "    for i in data:\n",
    "        if np.isnan(i).any():\n",
    "            index = data.index(i)\n",
    "            data[index] = pd.Series(data[index]).fillna(0).tolist()\n",
    "    return data\n"
   ]
  },
  {
   "cell_type": "code",
   "execution_count": 58,
   "metadata": {},
   "outputs": [],
   "source": [
    "train_data = normalize(train_data, [2,3,5,6])\n",
    "train_label = normalize(train_label)\n",
    "test_data = normalize(test_data, [2,3,5,6])\n",
    "test_label = normalize(test_label)\n",
    "\n",
    "train_data = fillnan(train_data)\n",
    "train_label = fillnan(train_label)\n",
    "test_data = fillnan(test_data)\n",
    "test_label = fillnan(test_label)\n"
   ]
  },
  {
   "cell_type": "code",
   "execution_count": 59,
   "metadata": {},
   "outputs": [],
   "source": [
    "train_data = pd.DataFrame(train_data).T.values.tolist()\n",
    "test_data = pd.DataFrame(test_data).T.values.tolist()"
   ]
  },
  {
   "cell_type": "code",
   "execution_count": 60,
   "metadata": {},
   "outputs": [
    {
     "data": {
      "text/plain": [
       "array([[1., 0., 0., ..., 0., 0., 0.],\n",
       "       [0., 1., 0., ..., 0., 0., 0.],\n",
       "       [0., 0., 1., ..., 0., 0., 0.],\n",
       "       ...,\n",
       "       [0., 0., 0., ..., 1., 0., 0.],\n",
       "       [0., 0., 0., ..., 0., 1., 0.],\n",
       "       [0., 0., 0., ..., 0., 0., 1.]])"
      ]
     },
     "execution_count": 60,
     "metadata": {},
     "output_type": "execute_result"
    }
   ],
   "source": [
    "transformed_train_data = chi2_kernel(train_data, gamma=0.5)\n",
    "transformed_train_data"
   ]
  },
  {
   "cell_type": "code",
   "execution_count": 66,
   "metadata": {},
   "outputs": [
    {
     "data": {
      "text/plain": [
       "(1000, 5000)"
      ]
     },
     "execution_count": 66,
     "metadata": {},
     "output_type": "execute_result"
    }
   ],
   "source": [
    "transformed_test_data = chi2_kernel(test_data, train_data, gamma=0.5)\n",
    "transformed_test_data.shape"
   ]
  },
  {
   "cell_type": "code",
   "execution_count": 62,
   "metadata": {},
   "outputs": [
    {
     "name": "stdout",
     "output_type": "stream",
     "text": [
      "Iteration 1, loss = 0.70811988\n",
      "Iteration 2, loss = 0.68471211\n",
      "Iteration 3, loss = 0.64964175\n",
      "Iteration 4, loss = 0.50552801\n",
      "Iteration 5, loss = 0.24728940\n",
      "Iteration 6, loss = 0.19467784\n",
      "Iteration 7, loss = 0.18738326\n",
      "Iteration 8, loss = 0.18189203\n",
      "Iteration 9, loss = 0.17698344\n",
      "Iteration 10, loss = 0.17245981\n",
      "Iteration 11, loss = 0.16825104\n",
      "Iteration 12, loss = 0.16426344\n",
      "Iteration 13, loss = 0.16048676\n",
      "Iteration 14, loss = 0.15684861\n",
      "Iteration 15, loss = 0.15339801\n",
      "Iteration 16, loss = 0.15005684\n",
      "Iteration 17, loss = 0.14685981\n",
      "Iteration 18, loss = 0.14375067\n",
      "Iteration 19, loss = 0.14077931\n",
      "Iteration 20, loss = 0.13786549\n",
      "Iteration 21, loss = 0.13507673\n",
      "Iteration 22, loss = 0.13237003\n",
      "Iteration 23, loss = 0.12971837\n",
      "Iteration 24, loss = 0.12716191\n",
      "Iteration 25, loss = 0.12469176\n",
      "Iteration 26, loss = 0.12226787\n",
      "Iteration 27, loss = 0.11993465\n",
      "Iteration 28, loss = 0.11764715\n",
      "Iteration 29, loss = 0.11542332\n",
      "Iteration 30, loss = 0.11327118\n",
      "Iteration 31, loss = 0.11116175\n",
      "Iteration 32, loss = 0.10911609\n",
      "Iteration 33, loss = 0.10711358\n",
      "Iteration 34, loss = 0.10517808\n",
      "Iteration 35, loss = 0.10328293\n",
      "Iteration 36, loss = 0.10141790\n",
      "Iteration 37, loss = 0.09962113\n",
      "Iteration 38, loss = 0.09785782\n",
      "Iteration 39, loss = 0.09613289\n",
      "Iteration 40, loss = 0.09446283\n",
      "Iteration 41, loss = 0.09282400\n",
      "Iteration 42, loss = 0.09122253\n",
      "Iteration 43, loss = 0.08966113\n",
      "Iteration 44, loss = 0.08813196\n",
      "Iteration 45, loss = 0.08664477\n",
      "Iteration 46, loss = 0.08518524\n",
      "Iteration 47, loss = 0.08376047\n",
      "Iteration 48, loss = 0.08237247\n",
      "Iteration 49, loss = 0.08100827\n",
      "Iteration 50, loss = 0.07967564\n",
      "Iteration 51, loss = 0.07836964\n",
      "Iteration 52, loss = 0.07709496\n",
      "Iteration 53, loss = 0.07584586\n",
      "Iteration 54, loss = 0.07463359\n",
      "Iteration 55, loss = 0.07343376\n",
      "Iteration 56, loss = 0.07226055\n",
      "Iteration 57, loss = 0.07111848\n",
      "Iteration 58, loss = 0.06999343\n",
      "Iteration 59, loss = 0.06889767\n",
      "Iteration 60, loss = 0.06782422\n",
      "Iteration 61, loss = 0.06676525\n",
      "Iteration 62, loss = 0.06573463\n",
      "Iteration 63, loss = 0.06472343\n",
      "Iteration 64, loss = 0.06373248\n",
      "Iteration 65, loss = 0.06276477\n",
      "Iteration 66, loss = 0.06180642\n",
      "Iteration 67, loss = 0.06087797\n",
      "Iteration 68, loss = 0.05996131\n",
      "Iteration 69, loss = 0.05906538\n",
      "Iteration 70, loss = 0.05818378\n",
      "Iteration 71, loss = 0.05732195\n",
      "Iteration 72, loss = 0.05647115\n",
      "Iteration 73, loss = 0.05564433\n",
      "Iteration 74, loss = 0.05483085\n",
      "Iteration 75, loss = 0.05402695\n",
      "Iteration 76, loss = 0.05324942\n",
      "Iteration 77, loss = 0.05247357\n",
      "Iteration 78, loss = 0.05171812\n",
      "Iteration 79, loss = 0.05098017\n",
      "Iteration 80, loss = 0.05025003\n",
      "Iteration 81, loss = 0.04953137\n",
      "Iteration 82, loss = 0.04883114\n",
      "Iteration 83, loss = 0.04814186\n",
      "Iteration 84, loss = 0.04746217\n",
      "Iteration 85, loss = 0.04679735\n",
      "Iteration 86, loss = 0.04614310\n",
      "Iteration 87, loss = 0.04550051\n",
      "Iteration 88, loss = 0.04486871\n",
      "Iteration 89, loss = 0.04425186\n",
      "Iteration 90, loss = 0.04363988\n",
      "Iteration 91, loss = 0.04304227\n",
      "Iteration 92, loss = 0.04245329\n",
      "Iteration 93, loss = 0.04187343\n",
      "Iteration 94, loss = 0.04131054\n",
      "Iteration 95, loss = 0.04074772\n",
      "Iteration 96, loss = 0.04019633\n",
      "Iteration 97, loss = 0.03965624\n",
      "Iteration 98, loss = 0.03912369\n",
      "Iteration 99, loss = 0.03860371\n",
      "Iteration 100, loss = 0.03808787\n"
     ]
    },
    {
     "name": "stderr",
     "output_type": "stream",
     "text": [
      "e:\\CP & Uni\\Work\\Amin\\Homework2\\.venv\\lib\\site-packages\\sklearn\\neural_network\\_multilayer_perceptron.py:702: ConvergenceWarning: Stochastic Optimizer: Maximum iterations (100) reached and the optimization hasn't converged yet.\n",
      "  warnings.warn(\n"
     ]
    },
    {
     "data": {
      "text/html": [
       "<style>#sk-container-id-4 {color: black;background-color: white;}#sk-container-id-4 pre{padding: 0;}#sk-container-id-4 div.sk-toggleable {background-color: white;}#sk-container-id-4 label.sk-toggleable__label {cursor: pointer;display: block;width: 100%;margin-bottom: 0;padding: 0.3em;box-sizing: border-box;text-align: center;}#sk-container-id-4 label.sk-toggleable__label-arrow:before {content: \"▸\";float: left;margin-right: 0.25em;color: #696969;}#sk-container-id-4 label.sk-toggleable__label-arrow:hover:before {color: black;}#sk-container-id-4 div.sk-estimator:hover label.sk-toggleable__label-arrow:before {color: black;}#sk-container-id-4 div.sk-toggleable__content {max-height: 0;max-width: 0;overflow: hidden;text-align: left;background-color: #f0f8ff;}#sk-container-id-4 div.sk-toggleable__content pre {margin: 0.2em;color: black;border-radius: 0.25em;background-color: #f0f8ff;}#sk-container-id-4 input.sk-toggleable__control:checked~div.sk-toggleable__content {max-height: 200px;max-width: 100%;overflow: auto;}#sk-container-id-4 input.sk-toggleable__control:checked~label.sk-toggleable__label-arrow:before {content: \"▾\";}#sk-container-id-4 div.sk-estimator input.sk-toggleable__control:checked~label.sk-toggleable__label {background-color: #d4ebff;}#sk-container-id-4 div.sk-label input.sk-toggleable__control:checked~label.sk-toggleable__label {background-color: #d4ebff;}#sk-container-id-4 input.sk-hidden--visually {border: 0;clip: rect(1px 1px 1px 1px);clip: rect(1px, 1px, 1px, 1px);height: 1px;margin: -1px;overflow: hidden;padding: 0;position: absolute;width: 1px;}#sk-container-id-4 div.sk-estimator {font-family: monospace;background-color: #f0f8ff;border: 1px dotted black;border-radius: 0.25em;box-sizing: border-box;margin-bottom: 0.5em;}#sk-container-id-4 div.sk-estimator:hover {background-color: #d4ebff;}#sk-container-id-4 div.sk-parallel-item::after {content: \"\";width: 100%;border-bottom: 1px solid gray;flex-grow: 1;}#sk-container-id-4 div.sk-label:hover label.sk-toggleable__label {background-color: #d4ebff;}#sk-container-id-4 div.sk-serial::before {content: \"\";position: absolute;border-left: 1px solid gray;box-sizing: border-box;top: 0;bottom: 0;left: 50%;z-index: 0;}#sk-container-id-4 div.sk-serial {display: flex;flex-direction: column;align-items: center;background-color: white;padding-right: 0.2em;padding-left: 0.2em;position: relative;}#sk-container-id-4 div.sk-item {position: relative;z-index: 1;}#sk-container-id-4 div.sk-parallel {display: flex;align-items: stretch;justify-content: center;background-color: white;position: relative;}#sk-container-id-4 div.sk-item::before, #sk-container-id-4 div.sk-parallel-item::before {content: \"\";position: absolute;border-left: 1px solid gray;box-sizing: border-box;top: 0;bottom: 0;left: 50%;z-index: -1;}#sk-container-id-4 div.sk-parallel-item {display: flex;flex-direction: column;z-index: 1;position: relative;background-color: white;}#sk-container-id-4 div.sk-parallel-item:first-child::after {align-self: flex-end;width: 50%;}#sk-container-id-4 div.sk-parallel-item:last-child::after {align-self: flex-start;width: 50%;}#sk-container-id-4 div.sk-parallel-item:only-child::after {width: 0;}#sk-container-id-4 div.sk-dashed-wrapped {border: 1px dashed gray;margin: 0 0.4em 0.5em 0.4em;box-sizing: border-box;padding-bottom: 0.4em;background-color: white;}#sk-container-id-4 div.sk-label label {font-family: monospace;font-weight: bold;display: inline-block;line-height: 1.2em;}#sk-container-id-4 div.sk-label-container {text-align: center;}#sk-container-id-4 div.sk-container {/* jupyter's `normalize.less` sets `[hidden] { display: none; }` but bootstrap.min.css set `[hidden] { display: none !important; }` so we also need the `!important` here to be able to override the default hidden behavior on the sphinx rendered scikit-learn.org. See: https://github.com/scikit-learn/scikit-learn/issues/21755 */display: inline-block !important;position: relative;}#sk-container-id-4 div.sk-text-repr-fallback {display: none;}</style><div id=\"sk-container-id-4\" class=\"sk-top-container\"><div class=\"sk-text-repr-fallback\"><pre>MLPClassifier(hidden_layer_sizes=(256, 64, 16, 4), max_iter=100, tol=1e-05,\n",
       "              verbose=True)</pre><b>In a Jupyter environment, please rerun this cell to show the HTML representation or trust the notebook. <br />On GitHub, the HTML representation is unable to render, please try loading this page with nbviewer.org.</b></div><div class=\"sk-container\" hidden><div class=\"sk-item\"><div class=\"sk-estimator sk-toggleable\"><input class=\"sk-toggleable__control sk-hidden--visually\" id=\"sk-estimator-id-4\" type=\"checkbox\" checked><label for=\"sk-estimator-id-4\" class=\"sk-toggleable__label sk-toggleable__label-arrow\">MLPClassifier</label><div class=\"sk-toggleable__content\"><pre>MLPClassifier(hidden_layer_sizes=(256, 64, 16, 4), max_iter=100, tol=1e-05,\n",
       "              verbose=True)</pre></div></div></div></div></div>"
      ],
      "text/plain": [
       "MLPClassifier(hidden_layer_sizes=(256, 64, 16, 4), max_iter=100, tol=1e-05,\n",
       "              verbose=True)"
      ]
     },
     "execution_count": 62,
     "metadata": {},
     "output_type": "execute_result"
    }
   ],
   "source": [
    "mlp = MLPClassifier(hidden_layer_sizes=(256,64,16,4), learning_rate_init=0.001, max_iter=100, tol=0.00001, verbose=True)\n",
    "mlp.fit(transformed_train_data, train_label)"
   ]
  },
  {
   "cell_type": "code",
   "execution_count": 63,
   "metadata": {},
   "outputs": [],
   "source": [
    "filename = \"enhanced_mlp_classifier.sav\"\n",
    "with open(filename,'wb') as outfile:\n",
    "    pickle.dump(mlp, outfile)"
   ]
  },
  {
   "cell_type": "code",
   "execution_count": 67,
   "metadata": {},
   "outputs": [
    {
     "data": {
      "text/plain": [
       "0.545"
      ]
     },
     "execution_count": 67,
     "metadata": {},
     "output_type": "execute_result"
    }
   ],
   "source": [
    "accuracy_score(test_label, mlp.predict(transformed_test_data))"
   ]
  }
 ],
 "metadata": {
  "interpreter": {
   "hash": "665e1ce30ecac6ce0f1b6de717c7d76dab98cede7eef8dc5ec3ae57091702265"
  },
  "kernelspec": {
   "display_name": "Python 3.10.0 ('.venv': venv)",
   "language": "python",
   "name": "python3"
  },
  "language_info": {
   "codemirror_mode": {
    "name": "ipython",
    "version": 3
   },
   "file_extension": ".py",
   "mimetype": "text/x-python",
   "name": "python",
   "nbconvert_exporter": "python",
   "pygments_lexer": "ipython3",
   "version": "3.10.0"
  },
  "orig_nbformat": 4
 },
 "nbformat": 4,
 "nbformat_minor": 2
}
