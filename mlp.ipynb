{
 "cells": [
  {
   "cell_type": "markdown",
   "metadata": {},
   "source": [
    "##### import section"
   ]
  },
  {
   "cell_type": "code",
   "execution_count": 65,
   "metadata": {},
   "outputs": [],
   "source": [
    "import pandas as pd\n",
    "import numpy as np\n",
    "import pickle\n",
    "from sklearn.neural_network import MLPClassifier\n",
    "from sklearn.metrics import accuracy_score"
   ]
  },
  {
   "cell_type": "markdown",
   "metadata": {},
   "source": [
    "##### Reading train & test data from files"
   ]
  },
  {
   "cell_type": "code",
   "execution_count": 57,
   "metadata": {},
   "outputs": [],
   "source": [
    "train = pd.read_csv(\"train.csv\", encoding='utf-8')\n",
    "test = pd.read_csv(\"test.csv\", encoding='utf-8')"
   ]
  },
  {
   "cell_type": "markdown",
   "metadata": {},
   "source": [
    "##### Seprating data from its labels"
   ]
  },
  {
   "cell_type": "code",
   "execution_count": 58,
   "metadata": {},
   "outputs": [],
   "source": [
    "train_label = train.loc[:,\"satisfaction\"]\n",
    "train_data = train.drop('satisfaction', axis=1)\n",
    "test_label = test.loc[:,\"satisfaction\"]\n",
    "test_data = test.drop('satisfaction', axis=1)"
   ]
  },
  {
   "cell_type": "code",
   "execution_count": 59,
   "metadata": {},
   "outputs": [],
   "source": [
    "train_data = train_data.T.values.tolist()\n",
    "train_label = train_label.T.values.tolist()\n",
    "test_data = test_data.T.values.tolist()\n",
    "test_label = test_label.T.values.tolist()"
   ]
  },
  {
   "cell_type": "markdown",
   "metadata": {},
   "source": [
    "##### Normalizing data"
   ]
  },
  {
   "cell_type": "code",
   "execution_count": 60,
   "metadata": {},
   "outputs": [],
   "source": [
    "def normalize(data: list, col_index: list = None)-> list:\n",
    "    if col_index is None:\n",
    "        temp_lst = [] \n",
    "        temp_map = {}\n",
    "        map_value = 0\n",
    "        for i in data:\n",
    "            if i not in temp_map:\n",
    "                temp_map[i] = map_value\n",
    "                map_value += 1\n",
    "            temp_lst.append(temp_map[i])\n",
    "        data = temp_lst\n",
    "        return data\n",
    "        \n",
    "    for col in col_index:\n",
    "        temp_lst = [] \n",
    "        temp_map = {}\n",
    "        map_value = 0\n",
    "        for i in data[col]:\n",
    "            if i not in temp_map:\n",
    "                temp_map[i] = map_value\n",
    "                map_value += 1\n",
    "            temp_lst.append(temp_map[i])\n",
    "        data[col] = temp_lst\n",
    "    return data\n",
    "\n",
    "\n",
    "def fillnan(data: list)-> list:\n",
    "    for i in data:\n",
    "        if np.isnan(i).any():\n",
    "            index = data.index(i)\n",
    "            data[index] = pd.Series(data[index]).fillna(0).tolist()\n",
    "    return data\n"
   ]
  },
  {
   "cell_type": "code",
   "execution_count": 61,
   "metadata": {},
   "outputs": [],
   "source": [
    "train_data = normalize(train_data, [2,3,5,6])\n",
    "train_label = normalize(train_label)\n",
    "test_data = normalize(test_data, [2,3,5,6])\n",
    "test_label = normalize(test_label)\n",
    "\n",
    "train_data = fillnan(train_data)\n",
    "train_label = fillnan(train_label)\n",
    "test_data = fillnan(test_data)\n",
    "test_label = fillnan(test_label)\n"
   ]
  },
  {
   "cell_type": "code",
   "execution_count": 62,
   "metadata": {},
   "outputs": [],
   "source": [
    "train_data = pd.DataFrame(train_data).T.values.tolist()\n",
    "test_data = pd.DataFrame(test_data).T.values.tolist()"
   ]
  },
  {
   "cell_type": "markdown",
   "metadata": {},
   "source": [
    "##### Configuration and deployment of the classifier on the train data"
   ]
  },
  {
   "cell_type": "code",
   "execution_count": 63,
   "metadata": {},
   "outputs": [
    {
     "name": "stdout",
     "output_type": "stream",
     "text": [
      "Iteration 1, loss = 14.33012920\n",
      "Iteration 2, loss = 13.24024492\n",
      "Iteration 3, loss = 12.14205671\n",
      "Iteration 4, loss = 11.25406041\n",
      "Iteration 5, loss = 10.65808545\n",
      "Iteration 6, loss = 10.19422550\n",
      "Iteration 7, loss = 8.28850232\n",
      "Iteration 8, loss = 8.77746755\n",
      "Iteration 9, loss = 7.38160780\n",
      "Iteration 10, loss = 6.23066581\n",
      "Iteration 11, loss = 5.97446534\n",
      "Iteration 12, loss = 4.40158112\n",
      "Iteration 13, loss = 3.28491261\n",
      "Iteration 14, loss = 2.97608976\n",
      "Iteration 15, loss = 1.82337047\n",
      "Iteration 16, loss = 1.39295207\n",
      "Iteration 17, loss = 1.07535639\n",
      "Iteration 18, loss = 0.65028393\n",
      "Iteration 19, loss = 0.62421621\n",
      "Iteration 20, loss = 0.61116862\n",
      "Iteration 21, loss = 0.58403407\n",
      "Iteration 22, loss = 0.61632715\n",
      "Iteration 23, loss = 0.58488034\n",
      "Iteration 24, loss = 0.75780615\n",
      "Iteration 25, loss = 0.80569218\n",
      "Iteration 26, loss = 0.65853738\n",
      "Iteration 27, loss = 0.68463022\n",
      "Iteration 28, loss = 0.67552984\n",
      "Iteration 29, loss = 0.67961056\n",
      "Iteration 30, loss = 0.69328413\n",
      "Iteration 31, loss = 0.65522826\n",
      "Iteration 32, loss = 0.65414650\n",
      "Training loss did not improve more than tol=0.000010 for 10 consecutive epochs. Stopping.\n"
     ]
    },
    {
     "data": {
      "text/html": [
       "<style>#sk-container-id-1 {color: black;background-color: white;}#sk-container-id-1 pre{padding: 0;}#sk-container-id-1 div.sk-toggleable {background-color: white;}#sk-container-id-1 label.sk-toggleable__label {cursor: pointer;display: block;width: 100%;margin-bottom: 0;padding: 0.3em;box-sizing: border-box;text-align: center;}#sk-container-id-1 label.sk-toggleable__label-arrow:before {content: \"▸\";float: left;margin-right: 0.25em;color: #696969;}#sk-container-id-1 label.sk-toggleable__label-arrow:hover:before {color: black;}#sk-container-id-1 div.sk-estimator:hover label.sk-toggleable__label-arrow:before {color: black;}#sk-container-id-1 div.sk-toggleable__content {max-height: 0;max-width: 0;overflow: hidden;text-align: left;background-color: #f0f8ff;}#sk-container-id-1 div.sk-toggleable__content pre {margin: 0.2em;color: black;border-radius: 0.25em;background-color: #f0f8ff;}#sk-container-id-1 input.sk-toggleable__control:checked~div.sk-toggleable__content {max-height: 200px;max-width: 100%;overflow: auto;}#sk-container-id-1 input.sk-toggleable__control:checked~label.sk-toggleable__label-arrow:before {content: \"▾\";}#sk-container-id-1 div.sk-estimator input.sk-toggleable__control:checked~label.sk-toggleable__label {background-color: #d4ebff;}#sk-container-id-1 div.sk-label input.sk-toggleable__control:checked~label.sk-toggleable__label {background-color: #d4ebff;}#sk-container-id-1 input.sk-hidden--visually {border: 0;clip: rect(1px 1px 1px 1px);clip: rect(1px, 1px, 1px, 1px);height: 1px;margin: -1px;overflow: hidden;padding: 0;position: absolute;width: 1px;}#sk-container-id-1 div.sk-estimator {font-family: monospace;background-color: #f0f8ff;border: 1px dotted black;border-radius: 0.25em;box-sizing: border-box;margin-bottom: 0.5em;}#sk-container-id-1 div.sk-estimator:hover {background-color: #d4ebff;}#sk-container-id-1 div.sk-parallel-item::after {content: \"\";width: 100%;border-bottom: 1px solid gray;flex-grow: 1;}#sk-container-id-1 div.sk-label:hover label.sk-toggleable__label {background-color: #d4ebff;}#sk-container-id-1 div.sk-serial::before {content: \"\";position: absolute;border-left: 1px solid gray;box-sizing: border-box;top: 0;bottom: 0;left: 50%;z-index: 0;}#sk-container-id-1 div.sk-serial {display: flex;flex-direction: column;align-items: center;background-color: white;padding-right: 0.2em;padding-left: 0.2em;position: relative;}#sk-container-id-1 div.sk-item {position: relative;z-index: 1;}#sk-container-id-1 div.sk-parallel {display: flex;align-items: stretch;justify-content: center;background-color: white;position: relative;}#sk-container-id-1 div.sk-item::before, #sk-container-id-1 div.sk-parallel-item::before {content: \"\";position: absolute;border-left: 1px solid gray;box-sizing: border-box;top: 0;bottom: 0;left: 50%;z-index: -1;}#sk-container-id-1 div.sk-parallel-item {display: flex;flex-direction: column;z-index: 1;position: relative;background-color: white;}#sk-container-id-1 div.sk-parallel-item:first-child::after {align-self: flex-end;width: 50%;}#sk-container-id-1 div.sk-parallel-item:last-child::after {align-self: flex-start;width: 50%;}#sk-container-id-1 div.sk-parallel-item:only-child::after {width: 0;}#sk-container-id-1 div.sk-dashed-wrapped {border: 1px dashed gray;margin: 0 0.4em 0.5em 0.4em;box-sizing: border-box;padding-bottom: 0.4em;background-color: white;}#sk-container-id-1 div.sk-label label {font-family: monospace;font-weight: bold;display: inline-block;line-height: 1.2em;}#sk-container-id-1 div.sk-label-container {text-align: center;}#sk-container-id-1 div.sk-container {/* jupyter's `normalize.less` sets `[hidden] { display: none; }` but bootstrap.min.css set `[hidden] { display: none !important; }` so we also need the `!important` here to be able to override the default hidden behavior on the sphinx rendered scikit-learn.org. See: https://github.com/scikit-learn/scikit-learn/issues/21755 */display: inline-block !important;position: relative;}#sk-container-id-1 div.sk-text-repr-fallback {display: none;}</style><div id=\"sk-container-id-1\" class=\"sk-top-container\"><div class=\"sk-text-repr-fallback\"><pre>MLPClassifier(hidden_layer_sizes=(128, 64, 16), max_iter=300, tol=1e-05,\n",
       "              verbose=True)</pre><b>In a Jupyter environment, please rerun this cell to show the HTML representation or trust the notebook. <br />On GitHub, the HTML representation is unable to render, please try loading this page with nbviewer.org.</b></div><div class=\"sk-container\" hidden><div class=\"sk-item\"><div class=\"sk-estimator sk-toggleable\"><input class=\"sk-toggleable__control sk-hidden--visually\" id=\"sk-estimator-id-1\" type=\"checkbox\" checked><label for=\"sk-estimator-id-1\" class=\"sk-toggleable__label sk-toggleable__label-arrow\">MLPClassifier</label><div class=\"sk-toggleable__content\"><pre>MLPClassifier(hidden_layer_sizes=(128, 64, 16), max_iter=300, tol=1e-05,\n",
       "              verbose=True)</pre></div></div></div></div></div>"
      ],
      "text/plain": [
       "MLPClassifier(hidden_layer_sizes=(128, 64, 16), max_iter=300, tol=1e-05,\n",
       "              verbose=True)"
      ]
     },
     "execution_count": 63,
     "metadata": {},
     "output_type": "execute_result"
    }
   ],
   "source": [
    "mlp = MLPClassifier(hidden_layer_sizes=(128,64,16,), learning_rate_init=0.001, max_iter=300, tol=0.00001, verbose=True)\n",
    "mlp.fit(train_data, train_label)"
   ]
  },
  {
   "cell_type": "markdown",
   "metadata": {},
   "source": [
    "##### Save classifier"
   ]
  },
  {
   "cell_type": "code",
   "execution_count": 64,
   "metadata": {},
   "outputs": [],
   "source": [
    "filename = \"mlp_classifier.sav\"\n",
    "with open(filename,'wb') as outfile:\n",
    "    pickle.dump(mlp, outfile)"
   ]
  },
  {
   "cell_type": "markdown",
   "metadata": {},
   "source": [
    "##### Evaluation"
   ]
  },
  {
   "cell_type": "code",
   "execution_count": 66,
   "metadata": {},
   "outputs": [
    {
     "data": {
      "text/plain": [
       "0.41854019094548817"
      ]
     },
     "execution_count": 66,
     "metadata": {},
     "output_type": "execute_result"
    }
   ],
   "source": [
    "accuracy_score(test_label, mlp.predict(test_data))"
   ]
  }
 ],
 "metadata": {
  "interpreter": {
   "hash": "665e1ce30ecac6ce0f1b6de717c7d76dab98cede7eef8dc5ec3ae57091702265"
  },
  "kernelspec": {
   "display_name": "Python 3.10.0 ('.venv': venv)",
   "language": "python",
   "name": "python3"
  },
  "language_info": {
   "codemirror_mode": {
    "name": "ipython",
    "version": 3
   },
   "file_extension": ".py",
   "mimetype": "text/x-python",
   "name": "python",
   "nbconvert_exporter": "python",
   "pygments_lexer": "ipython3",
   "version": "3.10.0"
  },
  "orig_nbformat": 4
 },
 "nbformat": 4,
 "nbformat_minor": 2
}
