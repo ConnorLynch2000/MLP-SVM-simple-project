{
 "cells": [
  {
   "cell_type": "markdown",
   "metadata": {},
   "source": [
    "##### import section"
   ]
  },
  {
   "cell_type": "code",
   "execution_count": 1,
   "metadata": {},
   "outputs": [],
   "source": [
    "import pandas as pd\n"
   ]
  },
  {
   "cell_type": "markdown",
   "metadata": {},
   "source": [
    "##### Reading train & test data from files"
   ]
  },
  {
   "cell_type": "code",
   "execution_count": 2,
   "metadata": {},
   "outputs": [],
   "source": [
    "train = pd.read_csv(\"train.csv\", encoding='utf-8')\n",
    "test = pd.read_csv(\"test.csv\", encoding='utf-8')"
   ]
  },
  {
   "cell_type": "markdown",
   "metadata": {},
   "source": [
    "##### Seprating data from its labels"
   ]
  },
  {
   "cell_type": "code",
   "execution_count": 116,
   "metadata": {},
   "outputs": [],
   "source": [
    "train_label = train.loc[:,\"satisfaction\"]\n",
    "train_data = train.drop('satisfaction', axis=1)\n",
    "test_label = test.loc[:,\"satisfaction\"]\n",
    "test_data = test.drop('satisfaction', axis=1)"
   ]
  },
  {
   "cell_type": "code",
   "execution_count": 112,
   "metadata": {},
   "outputs": [],
   "source": [
    "train_data = train_data.T.values.tolist()\n",
    "train_label = train_label.T.values.tolist()\n",
    "test_data = test_data.T.values.tolist()\n",
    "test_label = test_label.T.values.tolist()"
   ]
  },
  {
   "cell_type": "markdown",
   "metadata": {},
   "source": [
    "##### Normalizing data"
   ]
  },
  {
   "cell_type": "code",
   "execution_count": 113,
   "metadata": {},
   "outputs": [],
   "source": [
    "def normalize(data: list, col_index: list = None)-> list:\n",
    "    if col_index is None:\n",
    "        temp_lst = [] \n",
    "        temp_map = {}\n",
    "        map_value = 0\n",
    "        for i in data:\n",
    "            if i not in temp_map:\n",
    "                temp_map[i] = map_value\n",
    "                map_value += 1\n",
    "            temp_lst.append(temp_map[i])\n",
    "        data = temp_lst\n",
    "        return data\n",
    "        \n",
    "    for col in col_index:\n",
    "        temp_lst = [] \n",
    "        temp_map = {}\n",
    "        map_value = 0\n",
    "        for i in data[col]:\n",
    "            if i not in temp_map:\n",
    "                temp_map[i] = map_value\n",
    "                map_value += 1\n",
    "            temp_lst.append(temp_map[i])\n",
    "        data[col] = temp_lst\n",
    "    return data\n"
   ]
  },
  {
   "cell_type": "code",
   "execution_count": 114,
   "metadata": {},
   "outputs": [],
   "source": [
    "train_data = normalize(train_data, [2,3,5,6])\n",
    "train_label = normalize(train_label)\n",
    "test_data = normalize(test_data, [2,3,5,6])\n",
    "test_label = normalize(test_label)"
   ]
  }
 ],
 "metadata": {
  "interpreter": {
   "hash": "665e1ce30ecac6ce0f1b6de717c7d76dab98cede7eef8dc5ec3ae57091702265"
  },
  "kernelspec": {
   "display_name": "Python 3.10.0 ('.venv': venv)",
   "language": "python",
   "name": "python3"
  },
  "language_info": {
   "codemirror_mode": {
    "name": "ipython",
    "version": 3
   },
   "file_extension": ".py",
   "mimetype": "text/x-python",
   "name": "python",
   "nbconvert_exporter": "python",
   "pygments_lexer": "ipython3",
   "version": "3.10.0"
  },
  "orig_nbformat": 4
 },
 "nbformat": 4,
 "nbformat_minor": 2
}
